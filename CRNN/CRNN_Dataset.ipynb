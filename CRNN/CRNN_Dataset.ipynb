{
 "cells": [
  {
   "cell_type": "markdown",
   "metadata": {},
   "source": [
    "# 载入数据 以Dataset方式"
   ]
  },
  {
   "cell_type": "code",
   "execution_count": 1,
   "metadata": {},
   "outputs": [],
   "source": [
    "#from PIL import Image\n",
    "import os\n",
    "import torch\n",
    "from torch.utils.data import Dataset,DataLoader\n",
    "import torchvision.transforms as transforms\n",
    "import numpy as np\n",
    "import os,glob\n",
    "import random\n",
    "from PIL import Image"
   ]
  },
  {
   "cell_type": "code",
   "execution_count": 1,
   "metadata": {},
   "outputs": [],
   "source": [
    "train_path = 'data\\\\crnn_data\\\\train'\n",
    "test_path = 'data\\\\crnn_data\\\\test'\n",
    "valid_path = 'data\\\\crnn_data\\\\valid'"
   ]
  },
  {
   "cell_type": "code",
   "execution_count": 77,
   "metadata": {},
   "outputs": [],
   "source": [
    "class SVHC_Dataset(Dataset):\n",
    "    CHARS = '0123456789'\n",
    "    char_to_seq = {char:i+1 for i,char in enumerate(CHARS)}\n",
    "    seq_to_char = {label:char for char,label in char_to_seq.items()}\n",
    "    \n",
    "    \n",
    "    \n",
    "    def __init__(self,train_path,transform = None):\n",
    "        self.transform = transform\n",
    "        self.images_path = glob.glob(os.path.join(train_path,'*.png'))\n",
    "        self.images_path.sort(key = lambda x:int(x.split('\\\\')[-1].split('_')[0]))\n",
    "        self.channel = 1\n",
    "        \n",
    "    def __getitem__(self,index):\n",
    "        img = Image.open(self.images_path[index]).convert('L')\n",
    "        img = np.array(img)\n",
    "        img = img.reshape((self.channel,32,32))# channel  height  width\n",
    "        img = (img/127.0) - 1.0\n",
    "        img = torch.FloatTensor(img)\n",
    "        if self.transform is not None:\n",
    "            img = self.transform(img)\n",
    "        char = list(images_path[index].split('\\\\')[-1].split('_')[1])\n",
    "        length = int(images_path[index].split('\\\\')[-1].split('_')[-1].split('.')[0])\n",
    "        seq =[char_to_seq[i] for i in char]\n",
    "        seq = torch.LongTensor(seq)\n",
    "        return img,seq,torch.LongTensor([length])\n",
    "    \n",
    "    \n",
    "    def __len__(self):\n",
    "        return len(self.images_path)"
   ]
  },
  {
   "cell_type": "code",
   "execution_count": 78,
   "metadata": {},
   "outputs": [],
   "source": [
    "def SVHC_collate_fn(batch):\n",
    "    # zip(*batch)拆包\n",
    "    images, targets, target_lengths = zip(*batch)\n",
    "    # stack就是向量堆叠的意思。一定是扩张一个维度，然后在扩张的维度上，把多个张量纳入仅一个张量。想象向上摞面包片，摞的操作即是stack，0轴即按块stack\n",
    "    images = torch.stack(images, 0)\n",
    "    # cat是指向量拼接的意思。一定不扩张维度，想象把两个长条向量cat成一个更长的向量。\n",
    "    targets = torch.cat(targets, 0) #将多个batch并到一个上面\n",
    "    target_lengths = torch.cat(target_lengths, 0)\n",
    "    # 此处返回的数据即使train_loader每次取到的数据，迭代train_loader，每次都会取到三个值，即此处返回值。\n",
    "    return images, targets, target_lengths"
   ]
  },
  {
   "cell_type": "code",
   "execution_count": 79,
   "metadata": {},
   "outputs": [],
   "source": [
    "from config import train_config as config\n",
    "img_width = config['img_width']\n",
    "img_height = config['img_height']\n",
    "train_batch_size = config['train_batch_size']\n",
    "cpu_workers = config['cpu_workers']"
   ]
  },
  {
   "cell_type": "code",
   "execution_count": 80,
   "metadata": {},
   "outputs": [],
   "source": [
    "train_dataset = SVHC_Dataset(train_path)\n",
    "train_loader = DataLoader(\n",
    "    dataset=train_dataset,\n",
    "    batch_size=train_batch_size,\n",
    "    shuffle=True,\n",
    "    num_workers=cpu_workers,\n",
    "    collate_fn=SVHC_collate_fn)"
   ]
  },
  {
   "cell_type": "code",
   "execution_count": 81,
   "metadata": {},
   "outputs": [],
   "source": [
    "train_data = train_dataset.__getitem__(0)"
   ]
  },
  {
   "cell_type": "code",
   "execution_count": 82,
   "metadata": {},
   "outputs": [
    {
     "name": "stdout",
     "output_type": "stream",
     "text": [
      "train_data的类型是：<class 'tuple'>\n",
      "train_data的长度是：3\n"
     ]
    }
   ],
   "source": [
    "print(f'train_data的类型是：{type(train_data)}')\n",
    "print(f'train_data的长度是：{len(train_data)}')"
   ]
  },
  {
   "cell_type": "code",
   "execution_count": 83,
   "metadata": {},
   "outputs": [
    {
     "data": {
      "text/plain": [
       "(tensor([[[-0.5197, -0.4252, -0.4331,  ..., -0.4252, -0.4331, -0.4567],\n",
       "          [-0.4961, -0.4646, -0.3937,  ..., -0.3780, -0.4094, -0.4567],\n",
       "          [-0.5433, -0.4488, -0.4173,  ..., -0.3701, -0.3937, -0.4016],\n",
       "          ...,\n",
       "          [-0.3937, -0.2441, -0.1811,  ..., -0.1811, -0.1969, -0.1811],\n",
       "          [-0.3543, -0.1890, -0.1732,  ..., -0.1732, -0.1890, -0.2047],\n",
       "          [-0.3701, -0.1654, -0.1417,  ..., -0.2047, -0.1969, -0.2126]]]),\n",
       " tensor([ 2, 10]),\n",
       " tensor([2]))"
      ]
     },
     "execution_count": 83,
     "metadata": {},
     "output_type": "execute_result"
    }
   ],
   "source": [
    "train_data"
   ]
  },
  {
   "cell_type": "code",
   "execution_count": 84,
   "metadata": {},
   "outputs": [
    {
     "name": "stdout",
     "output_type": "stream",
     "text": [
      "img的类型是：<class 'torch.Tensor'>\n",
      "img的shape是：torch.Size([1, 32, 32])\n",
      "img matrix如下:\n",
      "tensor([[[-0.5197, -0.4252, -0.4331,  ..., -0.4252, -0.4331, -0.4567],\n",
      "         [-0.4961, -0.4646, -0.3937,  ..., -0.3780, -0.4094, -0.4567],\n",
      "         [-0.5433, -0.4488, -0.4173,  ..., -0.3701, -0.3937, -0.4016],\n",
      "         ...,\n",
      "         [-0.3937, -0.2441, -0.1811,  ..., -0.1811, -0.1969, -0.1811],\n",
      "         [-0.3543, -0.1890, -0.1732,  ..., -0.1732, -0.1890, -0.2047],\n",
      "         [-0.3701, -0.1654, -0.1417,  ..., -0.2047, -0.1969, -0.2126]]])\n"
     ]
    }
   ],
   "source": [
    "img = train_data[0]\n",
    "label_idx = train_data[1]\n",
    "label_length = train_data[2]\n",
    "print(f'img的类型是：{type(img)}')\n",
    "print(f'img的shape是：{img.shape}')\n",
    "print('img matrix如下:')\n",
    "print(img)"
   ]
  },
  {
   "cell_type": "code",
   "execution_count": 85,
   "metadata": {},
   "outputs": [],
   "source": [
    "import matplotlib.pyplot as plt"
   ]
  },
  {
   "cell_type": "code",
   "execution_count": 86,
   "metadata": {},
   "outputs": [
    {
     "data": {
      "image/png": "[encoded data removed]",
      "text/plain": [
       "<Figure size 432x288 with 1 Axes>"
      ]
     },
     "metadata": {
      "needs_background": "light"
     },
     "output_type": "display_data"
    }
   ],
   "source": [
    "img = np.transpose(img, (1, 2, 0))\n",
    "img = np.squeeze(img)\n",
    "plt.imshow(img)\n",
    "plt.show()"
   ]
  },
  {
   "cell_type": "code",
   "execution_count": 89,
   "metadata": {},
   "outputs": [
    {
     "name": "stdout",
     "output_type": "stream",
     "text": [
      "label为：19\n"
     ]
    }
   ],
   "source": [
    "chars = '0123456789'\n",
    "label = ''\n",
    "for idx in label_idx:\n",
    "    label += chars[idx-1]\n",
    "print(f'label为：{label}')"
   ]
  },
  {
   "cell_type": "code",
   "execution_count": null,
   "metadata": {},
   "outputs": [],
   "source": []
  }
 ],
 "metadata": {
  "kernelspec": {
   "display_name": "Python 3",
   "language": "python",
   "name": "python3"
  },
  "language_info": {
   "codemirror_mode": {
    "name": "ipython",
    "version": 3
   },
   "file_extension": ".py",
   "mimetype": "text/x-python",
   "name": "python",
   "nbconvert_exporter": "python",
   "pygments_lexer": "ipython3",
   "version": "3.7.3"
  }
 },
 "nbformat": 4,
 "nbformat_minor": 2
}
